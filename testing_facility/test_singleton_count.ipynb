{
 "cells": [
  {
   "cell_type": "code",
   "execution_count": 1,
   "metadata": {},
   "outputs": [],
   "source": [
    "import allel\n",
    "import numpy as np\n",
    "import pandas as pd\n",
    "from typing import Optional, Tuple"
   ]
  },
  {
   "cell_type": "code",
   "execution_count": 2,
   "metadata": {},
   "outputs": [],
   "source": [
    "g = allel.GenotypeArray([[[0, 0], [0, 0], [0,1]],\n",
    "                        [[0, 0], [0,0],[0,0]],\n",
    "                        [[0, 0], [0, 0],[0,0]],\n",
    "                        [[0, 0], [0, 0],[0,0]],\n",
    "                        [[0, 0], [0, 1],[0,0]],\n",
    "                        [[0, 0], [0, 1],[0,0]],\n",
    "                        [[1, 0], [-1, 1],[0,0]],\n",
    "                        [[0, 0], [0, 0],[0,0]],\n",
    "                        [[1, 1], [1, 1],[1,1]]])"
   ]
  },
  {
   "cell_type": "code",
   "execution_count": 3,
   "metadata": {},
   "outputs": [
    {
     "data": {
      "text/html": [
       "<div class=\"allel allel-DisplayAs2D\"><span>&lt;AlleleCountsArray shape=(9, 2) dtype=int32&gt;</span><table><thead><tr><th></th><th style=\"text-align: center\">0</th><th style=\"text-align: center\">1</th></tr></thead><tbody><tr><th style=\"text-align: center; background-color: white; border-right: 1px solid black; \">0</th><td style=\"text-align: center\">5</td><td style=\"text-align: center\">1</td></tr><tr><th style=\"text-align: center; background-color: white; border-right: 1px solid black; \">1</th><td style=\"text-align: center\">6</td><td style=\"text-align: center\">0</td></tr><tr><th style=\"text-align: center; background-color: white; border-right: 1px solid black; \">2</th><td style=\"text-align: center\">6</td><td style=\"text-align: center\">0</td></tr><tr><th style=\"text-align: center; background-color: white; border-right: 1px solid black; \">...</th><td style=\"text-align: center\" colspan=\"3\">...</td></tr><tr><th style=\"text-align: center; background-color: white; border-right: 1px solid black; \">6</th><td style=\"text-align: center\">3</td><td style=\"text-align: center\">2</td></tr><tr><th style=\"text-align: center; background-color: white; border-right: 1px solid black; \">7</th><td style=\"text-align: center\">6</td><td style=\"text-align: center\">0</td></tr><tr><th style=\"text-align: center; background-color: white; border-right: 1px solid black; \">8</th><td style=\"text-align: center\">0</td><td style=\"text-align: center\">6</td></tr></tbody></table></div>"
      ],
      "text/plain": [
       "<AlleleCountsArray shape=(9, 2) dtype=int32>\n",
       "5 1\n",
       "6 0\n",
       "6 0\n",
       "...\n",
       "3 2\n",
       "6 0\n",
       "0 6"
      ]
     },
     "execution_count": 3,
     "metadata": {},
     "output_type": "execute_result"
    }
   ],
   "source": [
    "g.count_alleles()"
   ]
  },
  {
   "cell_type": "code",
   "execution_count": 4,
   "metadata": {},
   "outputs": [
    {
     "data": {
      "text/plain": [
       "array([5, 3, 1, 0])"
      ]
     },
     "execution_count": 4,
     "metadata": {},
     "output_type": "execute_result"
    }
   ],
   "source": [
    "allel.sfs_folded(g.count_alleles())"
   ]
  },
  {
   "cell_type": "code",
   "execution_count": 69,
   "metadata": {},
   "outputs": [],
   "source": [
    "v = np.any(g.is_missing(),axis=1)"
   ]
  },
  {
   "cell_type": "code",
   "execution_count": 71,
   "metadata": {},
   "outputs": [
    {
     "data": {
      "text/html": [
       "<div class=\"allel allel-DisplayAs2D\"><span>&lt;GenotypeArray shape=(2, 3, 2) dtype=int64&gt;</span><table><thead><tr><th></th><th style=\"text-align: center\">0</th><th style=\"text-align: center\">1</th><th style=\"text-align: center\">2</th></tr></thead><tbody><tr><th style=\"text-align: center; background-color: white; border-right: 1px solid black; \">0</th><td style=\"text-align: center\">0/0</td><td style=\"text-align: center\">0/1</td><td style=\"text-align: center\">1/1</td></tr><tr><th style=\"text-align: center; background-color: white; border-right: 1px solid black; \">1</th><td style=\"text-align: center\">1/0</td><td style=\"text-align: center\">0/1</td><td style=\"text-align: center\">0/0</td></tr></tbody></table></div>"
      ],
      "text/plain": [
       "<GenotypeArray shape=(2, 3, 2) dtype=int64>\n",
       "0/0 0/1 1/1\n",
       "1/0 0/1 0/0"
      ]
     },
     "execution_count": 71,
     "metadata": {},
     "output_type": "execute_result"
    }
   ],
   "source": [
    "gf = g[~v]\n",
    "gf"
   ]
  },
  {
   "cell_type": "code",
   "execution_count": 72,
   "metadata": {},
   "outputs": [],
   "source": [
    "ac = g.count_alleles()\n",
    "acf = gf.count_alleles()"
   ]
  },
  {
   "cell_type": "code",
   "execution_count": 75,
   "metadata": {},
   "outputs": [
    {
     "name": "stdout",
     "output_type": "stream",
     "text": [
      "[False False False False  True  True] [False False]\n"
     ]
    }
   ],
   "source": [
    "print(ac.is_singleton(0),acf.is_singleton(0))"
   ]
  },
  {
   "cell_type": "code",
   "execution_count": null,
   "metadata": {},
   "outputs": [],
   "source": [
    "\n",
    "results = []\n",
    "\n",
    "ac = gt.count_alleles()\n",
    "\n",
    "# Calculate diversity\n",
    "diversity, _, n_bases, n_variants = allel.windowed_diversity(\n",
    "    region_pos,\n",
    "    region_ac,\n",
    "    start=region['start'],\n",
    "    stop=region['end'],\n",
    "    windows=[(region['start'], region['end'])]\n",
    ")\n",
    "\n",
    "    # Calculate singleton statistics\n",
    "    is_singleton = region_ac.is_singleton(1)\n",
    "    rev_singleton = region_ac.is_singleton(0)\n",
    "    n_singletons = np.sum(is_singleton+rev_singleton)\n",
    "    singleton_proportion = np.mean(is_singleton+rev_singleton)\n",
    "    \n",
    "    # Calculate Tajima's D\n",
    "    tajima_d = allel.tajima_d(region_ac, min_sites=min_sites)\n",
    "    \n",
    "    results.append({\n",
    "        'chrom': chrom,\n",
    "        'start': region['start'],\n",
    "        'end': region['end'],\n",
    "        'n_variants': n_variants[0],\n",
    "        'diversity': diversity[0],\n",
    "        'n_singletons': n_singletons,\n",
    "        'singleton_proportion': singleton_proportion,\n",
    "        'tajima_d': tajima_d,\n",
    "        'bases': n_bases[0]\n",
    "    })\n",
    "    return pd.DataFrame(results)"
   ]
  }
 ],
 "metadata": {
  "kernelspec": {
   "display_name": "bircproject",
   "language": "python",
   "name": "python3"
  },
  "language_info": {
   "codemirror_mode": {
    "name": "ipython",
    "version": 3
   },
   "file_extension": ".py",
   "mimetype": "text/x-python",
   "name": "python",
   "nbconvert_exporter": "python",
   "pygments_lexer": "ipython3",
   "version": "3.12.8"
  }
 },
 "nbformat": 4,
 "nbformat_minor": 2
}
