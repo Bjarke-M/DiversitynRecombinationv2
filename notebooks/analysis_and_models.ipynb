{
 "cells": [
  {
   "cell_type": "markdown",
   "metadata": {},
   "source": [
    "# PLACEHOLDER FOR TITLE"
   ]
  },
  {
   "cell_type": "markdown",
   "metadata": {},
   "source": [
    "## PLACEHOLDER FOR DESCRIPTION"
   ]
  },
  {
   "cell_type": "markdown",
   "metadata": {},
   "source": [
    "### PACKAGES AND LIBRARIES"
   ]
  },
  {
   "cell_type": "code",
   "execution_count": 6,
   "metadata": {},
   "outputs": [],
   "source": [
    "# Here is all the libs needed to do the analysis and plotting for \"TITLE AND THONG\"\n",
    "# python packages\n",
    "import pandas as pd\n",
    "import numpy as np\n",
    "import matplotlib.pyplot as plt\n",
    "import seaborn as sns\n",
    "import pymc as pm\n",
    "import arviz as az\n",
    "import xarray as xr"
   ]
  },
  {
   "cell_type": "code",
   "execution_count": 2,
   "metadata": {},
   "outputs": [],
   "source": [
    "# R packages\n",
    "import rpy2\n",
    "\n",
    "%load_ext rpy2.ipython"
   ]
  },
  {
   "cell_type": "code",
   "execution_count": 3,
   "metadata": {},
   "outputs": [
    {
     "name": "stdout",
     "output_type": "stream",
     "text": [
      "── Attaching core tidyverse packages ──────────────────────── tidyverse 2.0.0 ──\n",
      "✔ dplyr     1.1.4     ✔ readr     2.1.5\n",
      "✔ forcats   1.0.0     ✔ stringr   1.5.1\n",
      "✔ ggplot2   3.5.1     ✔ tibble    3.2.1\n",
      "✔ lubridate 1.9.3     ✔ tidyr     1.3.1\n",
      "✔ purrr     1.0.2     \n",
      "── Conflicts ────────────────────────────────────────── tidyverse_conflicts() ──\n",
      "✖ dplyr::filter() masks stats::filter()\n",
      "✖ dplyr::lag()    masks stats::lag()\n",
      "ℹ Use the conflicted package (<http://conflicted.r-lib.org/>) to force all conflicts to become errors\n"
     ]
    },
    {
     "name": "stderr",
     "output_type": "stream",
     "text": [
      "R[write to console]: \n",
      "Attaching package: ‘zoo’\n",
      "\n",
      "\n",
      "R[write to console]: The following objects are masked from ‘package:base’:\n",
      "\n",
      "    as.Date, as.Date.numeric\n",
      "\n",
      "\n",
      "R[write to console]: ggtree v3.10.0 For help: https://yulab-smu.top/treedata-book/\n",
      "\n",
      "If you use the ggtree package suite in published research, please cite\n",
      "the appropriate paper(s):\n",
      "\n",
      "Guangchuang Yu, David Smith, Huachen Zhu, Yi Guan, Tommy Tsan-Yuk Lam.\n",
      "ggtree: an R package for visualization and annotation of phylogenetic\n",
      "trees with their covariates and other associated data. Methods in\n",
      "Ecology and Evolution. 2017, 8(1):28-36. doi:10.1111/2041-210X.12628\n",
      "\n",
      "Shuangbin Xu, Lin Li, Xiao Luo, Meijun Chen, Wenli Tang, Li Zhan, Zehan\n",
      "Dai, Tommy T. Lam, Yi Guan, Guangchuang Yu. Ggtree: A serialized data\n",
      "object for visualization of a phylogenetic tree and annotation data.\n",
      "iMeta 2022, 1(4):e56. doi:10.1002/imt2.56\n",
      "\n",
      "Guangchuang Yu, Tommy Tsan-Yuk Lam, Huachen Zhu, Yi Guan. Two methods\n",
      "for mapping and visualizing associated data on phylogeny using ggtree.\n",
      "Molecular Biology and Evolution. 2018, 35(12):3041-3043.\n",
      "doi:10.1093/molbev/msy194\n",
      "\n",
      "R[write to console]: \n",
      "Attaching package: ‘ggtree’\n",
      "\n",
      "\n",
      "R[write to console]: The following object is masked from ‘package:tidyr’:\n",
      "\n",
      "    expand\n",
      "\n",
      "\n",
      "R[write to console]: \n",
      "Attaching package: ‘ape’\n",
      "\n",
      "\n",
      "R[write to console]: The following object is masked from ‘package:ggtree’:\n",
      "\n",
      "    rotate\n",
      "\n",
      "\n",
      "R[write to console]: The following object is masked from ‘package:dplyr’:\n",
      "\n",
      "    where\n",
      "\n",
      "\n",
      "R[write to console]: \n",
      "Attaching package: ‘ggpubr’\n",
      "\n",
      "\n",
      "R[write to console]: The following object is masked from ‘package:ggimage’:\n",
      "\n",
      "    theme_transparent\n",
      "\n",
      "\n",
      "R[write to console]: The following object is masked from ‘package:ape’:\n",
      "\n",
      "    rotate\n",
      "\n",
      "\n",
      "R[write to console]: The following object is masked from ‘package:ggtree’:\n",
      "\n",
      "    rotate\n",
      "\n",
      "\n"
     ]
    }
   ],
   "source": [
    "%%R\n",
    "library(tidyverse) \n",
    "library(zoo)\n",
    "library(ggtree)\n",
    "library(ape)\n",
    "library(ggimage)\n",
    "library(ggpubr)\n",
    "library(ggridges)"
   ]
  },
  {
   "cell_type": "code",
   "execution_count": 4,
   "metadata": {},
   "outputs": [],
   "source": [
    "%%R\n",
    "\n",
    "posterior_predictive <- function(x, slope_samples, intercept_samples) {\n",
    "  slope_samples * x + intercept_samples\n",
    "}\n",
    "\n",
    "# Calculate the credibility interval\n",
    "credibility_interval <- function(x, slope_samples, intercept_samples, prob = c(0.025, 0.975)) {\n",
    "  quantile(posterior_predictive(x, slope_samples, intercept_samples), prob)\n",
    "}"
   ]
  },
  {
   "cell_type": "markdown",
   "metadata": {},
   "source": [
    "# Merging with phylogenetic grouping, removing chrX, Low callability regions and NaNs"
   ]
  },
  {
   "cell_type": "code",
   "execution_count": 6,
   "metadata": {},
   "outputs": [
    {
     "data": {
      "text/html": [
       "<div>\n",
       "<style scoped>\n",
       "    .dataframe tbody tr th:only-of-type {\n",
       "        vertical-align: middle;\n",
       "    }\n",
       "\n",
       "    .dataframe tbody tr th {\n",
       "        vertical-align: top;\n",
       "    }\n",
       "\n",
       "    .dataframe thead th {\n",
       "        text-align: right;\n",
       "    }\n",
       "</style>\n",
       "<table border=\"1\" class=\"dataframe\">\n",
       "  <thead>\n",
       "    <tr style=\"text-align: right;\">\n",
       "      <th></th>\n",
       "      <th>chrom</th>\n",
       "      <th>start</th>\n",
       "      <th>end</th>\n",
       "      <th>n_variants</th>\n",
       "      <th>diversity</th>\n",
       "      <th>n_singletons</th>\n",
       "      <th>singleton_proportion</th>\n",
       "      <th>tajima_d</th>\n",
       "      <th>bases</th>\n",
       "      <th>cm_start</th>\n",
       "      <th>cm_end</th>\n",
       "      <th>cm_per_mb</th>\n",
       "      <th>freq_mean</th>\n",
       "      <th>freq_min</th>\n",
       "      <th>freq_max</th>\n",
       "      <th>freq_median</th>\n",
       "      <th>window_size_mean</th>\n",
       "      <th>sum_n_mean</th>\n",
       "      <th>species</th>\n",
       "    </tr>\n",
       "  </thead>\n",
       "  <tbody>\n",
       "    <tr>\n",
       "      <th>0</th>\n",
       "      <td>chr1</td>\n",
       "      <td>1</td>\n",
       "      <td>100000</td>\n",
       "      <td>173</td>\n",
       "      <td>0.000090</td>\n",
       "      <td>1.0</td>\n",
       "      <td>0.005780</td>\n",
       "      <td>2.002212</td>\n",
       "      <td>100000</td>\n",
       "      <td>NaN</td>\n",
       "      <td>NaN</td>\n",
       "      <td>NaN</td>\n",
       "      <td>0.004338</td>\n",
       "      <td>0.003720</td>\n",
       "      <td>0.004730</td>\n",
       "      <td>0.004365</td>\n",
       "      <td>99999.0</td>\n",
       "      <td>433.750000</td>\n",
       "      <td>Cheracebus_lugens</td>\n",
       "    </tr>\n",
       "    <tr>\n",
       "      <th>1</th>\n",
       "      <td>chr1</td>\n",
       "      <td>100001</td>\n",
       "      <td>200000</td>\n",
       "      <td>835</td>\n",
       "      <td>0.000158</td>\n",
       "      <td>20.0</td>\n",
       "      <td>0.023952</td>\n",
       "      <td>-0.200994</td>\n",
       "      <td>100000</td>\n",
       "      <td>NaN</td>\n",
       "      <td>NaN</td>\n",
       "      <td>NaN</td>\n",
       "      <td>0.015111</td>\n",
       "      <td>0.012820</td>\n",
       "      <td>0.017430</td>\n",
       "      <td>0.015280</td>\n",
       "      <td>99999.0</td>\n",
       "      <td>1511.125000</td>\n",
       "      <td>Cheracebus_lugens</td>\n",
       "    </tr>\n",
       "    <tr>\n",
       "      <th>2</th>\n",
       "      <td>chr1</td>\n",
       "      <td>200001</td>\n",
       "      <td>300000</td>\n",
       "      <td>763</td>\n",
       "      <td>0.000379</td>\n",
       "      <td>8.0</td>\n",
       "      <td>0.010485</td>\n",
       "      <td>0.706893</td>\n",
       "      <td>100000</td>\n",
       "      <td>NaN</td>\n",
       "      <td>NaN</td>\n",
       "      <td>NaN</td>\n",
       "      <td>0.014405</td>\n",
       "      <td>0.010910</td>\n",
       "      <td>0.020690</td>\n",
       "      <td>0.014390</td>\n",
       "      <td>99999.0</td>\n",
       "      <td>1440.500000</td>\n",
       "      <td>Cheracebus_lugens</td>\n",
       "    </tr>\n",
       "    <tr>\n",
       "      <th>3</th>\n",
       "      <td>chr1</td>\n",
       "      <td>300001</td>\n",
       "      <td>400000</td>\n",
       "      <td>330</td>\n",
       "      <td>0.000024</td>\n",
       "      <td>3.0</td>\n",
       "      <td>0.009091</td>\n",
       "      <td>-0.776995</td>\n",
       "      <td>100000</td>\n",
       "      <td>NaN</td>\n",
       "      <td>NaN</td>\n",
       "      <td>NaN</td>\n",
       "      <td>0.012228</td>\n",
       "      <td>0.011950</td>\n",
       "      <td>0.012370</td>\n",
       "      <td>0.012235</td>\n",
       "      <td>99999.0</td>\n",
       "      <td>1222.750000</td>\n",
       "      <td>Cheracebus_lugens</td>\n",
       "    </tr>\n",
       "    <tr>\n",
       "      <th>4</th>\n",
       "      <td>chr1</td>\n",
       "      <td>400001</td>\n",
       "      <td>500000</td>\n",
       "      <td>121</td>\n",
       "      <td>0.000026</td>\n",
       "      <td>8.0</td>\n",
       "      <td>0.066116</td>\n",
       "      <td>-1.123225</td>\n",
       "      <td>100000</td>\n",
       "      <td>NaN</td>\n",
       "      <td>NaN</td>\n",
       "      <td>NaN</td>\n",
       "      <td>0.000925</td>\n",
       "      <td>0.000430</td>\n",
       "      <td>0.001460</td>\n",
       "      <td>0.000830</td>\n",
       "      <td>99999.0</td>\n",
       "      <td>92.500000</td>\n",
       "      <td>Cheracebus_lugens</td>\n",
       "    </tr>\n",
       "    <tr>\n",
       "      <th>...</th>\n",
       "      <td>...</td>\n",
       "      <td>...</td>\n",
       "      <td>...</td>\n",
       "      <td>...</td>\n",
       "      <td>...</td>\n",
       "      <td>...</td>\n",
       "      <td>...</td>\n",
       "      <td>...</td>\n",
       "      <td>...</td>\n",
       "      <td>...</td>\n",
       "      <td>...</td>\n",
       "      <td>...</td>\n",
       "      <td>...</td>\n",
       "      <td>...</td>\n",
       "      <td>...</td>\n",
       "      <td>...</td>\n",
       "      <td>...</td>\n",
       "      <td>...</td>\n",
       "      <td>...</td>\n",
       "    </tr>\n",
       "    <tr>\n",
       "      <th>4972824</th>\n",
       "      <td>chrX</td>\n",
       "      <td>155600001</td>\n",
       "      <td>155700000</td>\n",
       "      <td>1393</td>\n",
       "      <td>0.001162</td>\n",
       "      <td>107.0</td>\n",
       "      <td>0.076813</td>\n",
       "      <td>0.095603</td>\n",
       "      <td>100000</td>\n",
       "      <td>NaN</td>\n",
       "      <td>NaN</td>\n",
       "      <td>NaN</td>\n",
       "      <td>0.836486</td>\n",
       "      <td>0.211532</td>\n",
       "      <td>0.915019</td>\n",
       "      <td>0.908759</td>\n",
       "      <td>99999.0</td>\n",
       "      <td>77839.153846</td>\n",
       "      <td>Pan_paniscus</td>\n",
       "    </tr>\n",
       "    <tr>\n",
       "      <th>4972825</th>\n",
       "      <td>chrX</td>\n",
       "      <td>155700001</td>\n",
       "      <td>155800000</td>\n",
       "      <td>1189</td>\n",
       "      <td>0.000626</td>\n",
       "      <td>135.0</td>\n",
       "      <td>0.113541</td>\n",
       "      <td>-1.022861</td>\n",
       "      <td>100000</td>\n",
       "      <td>NaN</td>\n",
       "      <td>NaN</td>\n",
       "      <td>NaN</td>\n",
       "      <td>0.848685</td>\n",
       "      <td>0.211012</td>\n",
       "      <td>0.934139</td>\n",
       "      <td>0.924919</td>\n",
       "      <td>99999.0</td>\n",
       "      <td>79377.538462</td>\n",
       "      <td>Pan_paniscus</td>\n",
       "    </tr>\n",
       "    <tr>\n",
       "      <th>4972826</th>\n",
       "      <td>chrX</td>\n",
       "      <td>155800001</td>\n",
       "      <td>155900000</td>\n",
       "      <td>1476</td>\n",
       "      <td>0.000747</td>\n",
       "      <td>112.0</td>\n",
       "      <td>0.075881</td>\n",
       "      <td>-0.340386</td>\n",
       "      <td>100000</td>\n",
       "      <td>NaN</td>\n",
       "      <td>NaN</td>\n",
       "      <td>NaN</td>\n",
       "      <td>0.850099</td>\n",
       "      <td>0.213392</td>\n",
       "      <td>0.929509</td>\n",
       "      <td>0.921809</td>\n",
       "      <td>99999.0</td>\n",
       "      <td>78971.692308</td>\n",
       "      <td>Pan_paniscus</td>\n",
       "    </tr>\n",
       "    <tr>\n",
       "      <th>4972827</th>\n",
       "      <td>chrX</td>\n",
       "      <td>155900001</td>\n",
       "      <td>156000000</td>\n",
       "      <td>1405</td>\n",
       "      <td>0.001113</td>\n",
       "      <td>105.0</td>\n",
       "      <td>0.074733</td>\n",
       "      <td>-0.072809</td>\n",
       "      <td>100000</td>\n",
       "      <td>NaN</td>\n",
       "      <td>NaN</td>\n",
       "      <td>NaN</td>\n",
       "      <td>0.805237</td>\n",
       "      <td>0.165102</td>\n",
       "      <td>0.900909</td>\n",
       "      <td>0.886019</td>\n",
       "      <td>99999.0</td>\n",
       "      <td>74607.307692</td>\n",
       "      <td>Pan_paniscus</td>\n",
       "    </tr>\n",
       "    <tr>\n",
       "      <th>4972828</th>\n",
       "      <td>chrX</td>\n",
       "      <td>156000001</td>\n",
       "      <td>156100000</td>\n",
       "      <td>15</td>\n",
       "      <td>0.000017</td>\n",
       "      <td>3.0</td>\n",
       "      <td>0.200000</td>\n",
       "      <td>-0.308725</td>\n",
       "      <td>100000</td>\n",
       "      <td>NaN</td>\n",
       "      <td>NaN</td>\n",
       "      <td>NaN</td>\n",
       "      <td>0.000525</td>\n",
       "      <td>0.000210</td>\n",
       "      <td>0.001000</td>\n",
       "      <td>0.000460</td>\n",
       "      <td>99999.0</td>\n",
       "      <td>54.769231</td>\n",
       "      <td>Pan_paniscus</td>\n",
       "    </tr>\n",
       "  </tbody>\n",
       "</table>\n",
       "<p>4972829 rows × 19 columns</p>\n",
       "</div>"
      ],
      "text/plain": [
       "        chrom      start        end  n_variants  diversity  n_singletons  \\\n",
       "0        chr1          1     100000         173   0.000090           1.0   \n",
       "1        chr1     100001     200000         835   0.000158          20.0   \n",
       "2        chr1     200001     300000         763   0.000379           8.0   \n",
       "3        chr1     300001     400000         330   0.000024           3.0   \n",
       "4        chr1     400001     500000         121   0.000026           8.0   \n",
       "...       ...        ...        ...         ...        ...           ...   \n",
       "4972824  chrX  155600001  155700000        1393   0.001162         107.0   \n",
       "4972825  chrX  155700001  155800000        1189   0.000626         135.0   \n",
       "4972826  chrX  155800001  155900000        1476   0.000747         112.0   \n",
       "4972827  chrX  155900001  156000000        1405   0.001113         105.0   \n",
       "4972828  chrX  156000001  156100000          15   0.000017           3.0   \n",
       "\n",
       "         singleton_proportion  tajima_d   bases  cm_start  cm_end  cm_per_mb  \\\n",
       "0                    0.005780  2.002212  100000       NaN     NaN        NaN   \n",
       "1                    0.023952 -0.200994  100000       NaN     NaN        NaN   \n",
       "2                    0.010485  0.706893  100000       NaN     NaN        NaN   \n",
       "3                    0.009091 -0.776995  100000       NaN     NaN        NaN   \n",
       "4                    0.066116 -1.123225  100000       NaN     NaN        NaN   \n",
       "...                       ...       ...     ...       ...     ...        ...   \n",
       "4972824              0.076813  0.095603  100000       NaN     NaN        NaN   \n",
       "4972825              0.113541 -1.022861  100000       NaN     NaN        NaN   \n",
       "4972826              0.075881 -0.340386  100000       NaN     NaN        NaN   \n",
       "4972827              0.074733 -0.072809  100000       NaN     NaN        NaN   \n",
       "4972828              0.200000 -0.308725  100000       NaN     NaN        NaN   \n",
       "\n",
       "         freq_mean  freq_min  freq_max  freq_median  window_size_mean  \\\n",
       "0         0.004338  0.003720  0.004730     0.004365           99999.0   \n",
       "1         0.015111  0.012820  0.017430     0.015280           99999.0   \n",
       "2         0.014405  0.010910  0.020690     0.014390           99999.0   \n",
       "3         0.012228  0.011950  0.012370     0.012235           99999.0   \n",
       "4         0.000925  0.000430  0.001460     0.000830           99999.0   \n",
       "...            ...       ...       ...          ...               ...   \n",
       "4972824   0.836486  0.211532  0.915019     0.908759           99999.0   \n",
       "4972825   0.848685  0.211012  0.934139     0.924919           99999.0   \n",
       "4972826   0.850099  0.213392  0.929509     0.921809           99999.0   \n",
       "4972827   0.805237  0.165102  0.900909     0.886019           99999.0   \n",
       "4972828   0.000525  0.000210  0.001000     0.000460           99999.0   \n",
       "\n",
       "           sum_n_mean            species  \n",
       "0          433.750000  Cheracebus_lugens  \n",
       "1         1511.125000  Cheracebus_lugens  \n",
       "2         1440.500000  Cheracebus_lugens  \n",
       "3         1222.750000  Cheracebus_lugens  \n",
       "4           92.500000  Cheracebus_lugens  \n",
       "...               ...                ...  \n",
       "4972824  77839.153846       Pan_paniscus  \n",
       "4972825  79377.538462       Pan_paniscus  \n",
       "4972826  78971.692308       Pan_paniscus  \n",
       "4972827  74607.307692       Pan_paniscus  \n",
       "4972828     54.769231       Pan_paniscus  \n",
       "\n",
       "[4972829 rows x 19 columns]"
      ]
     },
     "execution_count": 6,
     "metadata": {},
     "output_type": "execute_result"
    }
   ],
   "source": [
    "# load raw dataframes (Only for the first time, downstream use the saved dataframes)\n",
    "df = pd.read_csv('../data/stats/all_species.combined.stats.csv', sep = ',')\n",
    "pg_names = pd.read_csv('../data/genus_phylogenetic_group_metadata.txt', sep = '\\t')\n",
    "# get phylogenetic group names\n",
    "df['genus'] = df['species'].str.split('_').str[0]\n",
    "df['phylogenetic_group'] = df['genus'].map(pg_names.set_index('genus')['pg_name'])\n",
    "# Filter regions away that are freq_median < 0.5 or chrX and remove NANs\n",
    "df = df[df['chrom'] != 'chrX']\n",
    "df = df[df['freq_median'] > 0.5]\n",
    "# Drop NaN values in recombination rate\n",
    "df = df.dropna(subset=['cm_start', 'cm_end', 'cm_per_mb'])\n",
    "# Save the filtered dataframe\n",
    "df.to_csv('../results/stats/all_species.combined.stats.filtered.csv', index=False)\n"
   ]
  },
  {
   "cell_type": "markdown",
   "metadata": {},
   "source": [
    "# Tajimas D data"
   ]
  },
  {
   "cell_type": "code",
   "execution_count": null,
   "metadata": {},
   "outputs": [],
   "source": [
    "# # Remove species with less than 5 valid samples\n",
    "# tajimas_d = pd.read_csv('../results/stats/all_species.combined.stats.filtered.csv', sep = ',')\n",
    "# valid_species_count = pd.read_csv('../data/valid_species_counts.csv', sep = ',')\n",
    "# # Merge with valid_species_count and filter species with less than 5 valid samples\n",
    "# tajimas_d = tajimas_d.merge(valid_species_count, on='species')\n",
    "# tajimas_d = tajimas_d[tajimas_d['valid_samples'] >= 5]\n",
    "# tajimas_d.to_csv('../results/stats/tajimas_d.filtered.csv', index=False)"
   ]
  },
  {
   "cell_type": "code",
   "execution_count": 5,
   "metadata": {},
   "outputs": [
    {
     "name": "stdout",
     "output_type": "stream",
     "text": [
      "Rows: 581912 Columns: 22\n",
      "── Column specification ────────────────────────────────────────────────────────\n",
      "Delimiter: \",\"\n",
      "chr  (4): chrom, species, genus, phylogenetic_group\n",
      "dbl (18): start, end, n_variants, diversity, n_singletons, singleton_proport...\n",
      "\n",
      "ℹ Use `spec()` to retrieve the full column specification for this data.\n",
      "ℹ Specify the column types or set `show_col_types = FALSE` to quiet this message.\n"
     ]
    }
   ],
   "source": [
    "%%R\n",
    "df <- read_delim('../results/stats/tajimas_d.filtered.csv') %>% group_by(species) %>% mutate(rec_bin = ntile(cm_per_mb, 20))"
   ]
  },
  {
   "cell_type": "code",
   "execution_count": 6,
   "metadata": {},
   "outputs": [
    {
     "name": "stdout",
     "output_type": "stream",
     "text": [
      "# A tibble: 20 × 7\n",
      "   species    phylogenetic_group rec_bin median_tajimas_d median_singleton_pro…¹\n",
      "   <chr>      <chr>                <int>            <dbl>                  <dbl>\n",
      " 1 Alouatta_… New_world_monkeys        1           0.0940                 0.0194\n",
      " 2 Alouatta_… New_world_monkeys        2           0.161                  0.0203\n",
      " 3 Alouatta_… New_world_monkeys        3           0.175                  0.0200\n",
      " 4 Alouatta_… New_world_monkeys        4           0.174                  0.0205\n",
      " 5 Alouatta_… New_world_monkeys        5           0.188                  0.0209\n",
      " 6 Alouatta_… New_world_monkeys        6           0.226                  0.0206\n",
      " 7 Alouatta_… New_world_monkeys        7           0.192                  0.0208\n",
      " 8 Alouatta_… New_world_monkeys        8           0.190                  0.0210\n",
      " 9 Alouatta_… New_world_monkeys        9           0.216                  0.0205\n",
      "10 Alouatta_… New_world_monkeys       10           0.199                  0.0211\n",
      "11 Alouatta_… New_world_monkeys       11           0.194                  0.0209\n",
      "12 Alouatta_… New_world_monkeys       12           0.195                  0.0211\n",
      "13 Alouatta_… New_world_monkeys       13           0.221                  0.0208\n",
      "14 Alouatta_… New_world_monkeys       14           0.209                  0.0217\n",
      "15 Alouatta_… New_world_monkeys       15           0.204                  0.0211\n",
      "16 Alouatta_… New_world_monkeys       16           0.216                  0.0212\n",
      "17 Alouatta_… New_world_monkeys       17           0.198                  0.0215\n",
      "18 Alouatta_… New_world_monkeys       18           0.206                  0.0215\n",
      "19 Alouatta_… New_world_monkeys       19           0.197                  0.0217\n",
      "20 Alouatta_… New_world_monkeys       20           0.202                  0.0217\n",
      "# ℹ abbreviated name: ¹​median_singleton_proportion\n",
      "# ℹ 2 more variables: median_diversity <dbl>, median_rec_rate <dbl>\n"
     ]
    }
   ],
   "source": [
    "%%R\n",
    "# Calculate mean values per species and rec_bin for visualization\n",
    "df_summary <- df %>% \n",
    "    group_by(species, phylogenetic_group, rec_bin) %>%\n",
    "    summarise(\n",
    "        median_tajimas_d = median(tajima_d, na.rm = TRUE),\n",
    "        median_singleton_proportion = median(singleton_proportion, na.rm= TRUE),\n",
    "        median_diversity = median(diversity, na.rm = TRUE),\n",
    "        median_rec_rate = median(cm_per_mb),\n",
    "        .groups = 'drop'\n",
    "    )\n",
    "\n",
    "df_summary %>% filter(species == 'Alouatta_macconnelli')"
   ]
  },
  {
   "cell_type": "code",
   "execution_count": 7,
   "metadata": {},
   "outputs": [
    {
     "data": {
      "image/png": "[encoded data removed]",
      "text/plain": [
       "<IPython.core.display.Image object>"
      ]
     },
     "metadata": {},
     "output_type": "display_data"
    }
   ],
   "source": [
    "%%R -w 800 -h 800\n",
    "df_summary %>%\n",
    "    ggplot(aes(x = log10(median_rec_rate), y = median_tajimas_d)) +\n",
    "    geom_point() +\n",
    "    facet_wrap(~species) "
   ]
  },
  {
   "cell_type": "code",
   "execution_count": 9,
   "metadata": {},
   "outputs": [
    {
     "data": {
      "image/png": "[encoded data removed]",
      "text/plain": [
       "<IPython.core.display.Image object>"
      ]
     },
     "metadata": {},
     "output_type": "display_data"
    }
   ],
   "source": [
    "%%R -w 800 -h 800\n",
    "df_summary %>%\n",
    "    ggplot(aes(x = (median_rec_rate), y = median_tajimas_d)) +\n",
    "    geom_point() +\n",
    "    facet_wrap(~species) "
   ]
  },
  {
   "cell_type": "code",
   "execution_count": 10,
   "metadata": {},
   "outputs": [
    {
     "data": {
      "image/png": "[encoded data removed]",
      "text/plain": [
       "<IPython.core.display.Image object>"
      ]
     },
     "metadata": {},
     "output_type": "display_data"
    }
   ],
   "source": [
    "%%R -w 800 -h 800\n",
    "df_summary %>%\n",
    "    ggplot(aes(x = median_rec_rate, y = median_diversity)) +\n",
    "    geom_point() +\n",
    "    facet_wrap(~species) "
   ]
  },
  {
   "cell_type": "code",
   "execution_count": 11,
   "metadata": {},
   "outputs": [
    {
     "data": {
      "image/png": "[encoded data removed]",
      "text/plain": [
       "<IPython.core.display.Image object>"
      ]
     },
     "metadata": {},
     "output_type": "display_data"
    }
   ],
   "source": [
    "%%R -w 800 -h 800\n",
    "df_summary %>%\n",
    "    ggplot(aes(x = log10(median_rec_rate), y = median_diversity)) +\n",
    "    geom_point() +\n",
    "    facet_wrap(~species) "
   ]
  },
  {
   "cell_type": "code",
   "execution_count": 13,
   "metadata": {},
   "outputs": [
    {
     "data": {
      "image/png": "[encoded data removed]",
      "text/plain": [
       "<IPython.core.display.Image object>"
      ]
     },
     "metadata": {},
     "output_type": "display_data"
    }
   ],
   "source": [
    "%%R -w 800 -h 800\n",
    "df_summary %>%\n",
    "    ggplot(aes(x = median_rec_rate, y = median_singleton_proportion)) +\n",
    "    geom_point() +\n",
    "    facet_wrap(~species) "
   ]
  },
  {
   "cell_type": "markdown",
   "metadata": {},
   "source": [
    "# Ne Modelling "
   ]
  },
  {
   "cell_type": "code",
   "execution_count": 4,
   "metadata": {},
   "outputs": [],
   "source": [
    "# Building the model\n",
    "df = pd.read_csv('../data/Bergeron_et_al_2023_generationtimes_and_mutationrate.csv', sep=';',decimal=',')\n",
    "df['m_generation']=df['Mutation rate per site per generation (m_generation)']\n",
    "df['m_generation'] = pd.to_numeric(df['m_generation'])\n",
    "df['Avg_age'] = pd.to_numeric(df['Avg_age'])\n",
    "species_list=['Pan_troglodytes','Hylobates_lar','Homo_sapiens','Pithecia_pithecia','Mandrillus_leucophaeus','Saimiri_boliviensis_boliviensis']\n",
    "primates = df[df['Species_name'].isin(species_list)]"
   ]
  },
  {
   "cell_type": "code",
   "execution_count": 7,
   "metadata": {},
   "outputs": [],
   "source": [
    "basic_model = pm.Model()\n",
    "\n",
    "with basic_model:\n",
    "    alpha = pm.Normal('alpha',mu = 0, sigma = 0.1)\n",
    "    beta = pm.Normal('beta',mu = 0, sigma = 0.1)\n",
    "    sigma = pm.Exponential('sigma', lam=0.001)\n",
    "    #expected outcome\n",
    "    mu = alpha + beta * (primates['Avg_age'])\n",
    "    # likelihood (sampling distribution) of observations \n",
    "    obs = pm.Normal('obs', mu=mu, sigma=sigma, observed=primates['m_generation'])"
   ]
  },
  {
   "cell_type": "code",
   "execution_count": 8,
   "metadata": {},
   "outputs": [
    {
     "name": "stderr",
     "output_type": "stream",
     "text": [
      "/home/bjarkemp/miniforge3/envs/bircproject/lib/python3.12/site-packages/pymc/data.py:303: FutureWarning: MutableData is deprecated. All Data variables are now mutable. Use Data instead.\n",
      "  warnings.warn(\n"
     ]
    }
   ],
   "source": [
    "log_scaled_g = pm.Model()\n",
    "\n",
    "with log_scaled_g:\n",
    "    alpha = pm.Normal('alpha',mu = 0, sigma = 0.1)\n",
    "    beta = pm.Normal('beta',mu = 0, sigma = 0.1)\n",
    "    sigma = pm.Exponential('sigma', lam=0.001)\n",
    "    x = pm.MutableData(\"x\", primates['Avg_age'])\n",
    "    #expected outcome\n",
    "    mu = alpha + beta * np.log10(x)\n",
    "    # likelihood (sampling distribution) of observations \n",
    "    obs = pm.Normal('obs', mu=mu, sigma=sigma, observed=primates['m_generation'])"
   ]
  },
  {
   "cell_type": "code",
   "execution_count": 9,
   "metadata": {},
   "outputs": [
    {
     "name": "stderr",
     "output_type": "stream",
     "text": [
      "/home/bjarkemp/miniforge3/envs/bircproject/lib/python3.12/site-packages/pymc/data.py:303: FutureWarning: MutableData is deprecated. All Data variables are now mutable. Use Data instead.\n",
      "  warnings.warn(\n"
     ]
    }
   ],
   "source": [
    "halfnormal = pm.Model()\n",
    "\n",
    "with halfnormal:\n",
    "    alpha = pm.HalfNormal('alpha',sigma = 0.1)\n",
    "    beta = pm.Normal('beta',mu = 0, sigma = 0.1)\n",
    "    sigma = pm.Exponential('sigma', lam=0.001)\n",
    "    x = pm.MutableData(\"x\", primates['Avg_age'])\n",
    "    #expected outcome\n",
    "    mu = alpha + beta * np.log10(x)\n",
    "    # likelihood (sampling distribution) of observations \n",
    "    obs = pm.Normal('obs', mu=mu, sigma=sigma, observed=primates['m_generation'])"
   ]
  },
  {
   "cell_type": "code",
   "execution_count": 13,
   "metadata": {},
   "outputs": [
    {
     "name": "stderr",
     "output_type": "stream",
     "text": [
      "Auto-assigning NUTS sampler...\n",
      "Initializing NUTS using jitter+adapt_diag...\n",
      "Multiprocess sampling (4 chains in 4 jobs)\n",
      "NUTS: [alpha, beta, sigma]\n"
     ]
    },
    {
     "data": {
      "application/vnd.jupyter.widget-view+json": {
       "model_id": "7644ca74fc474a09b61044b93d081073",
       "version_major": 2,
       "version_minor": 0
      },
      "text/plain": [
       "Output()"
      ]
     },
     "metadata": {},
     "output_type": "display_data"
    },
    {
     "data": {
      "text/html": [
       "<pre style=\"white-space:pre;overflow-x:auto;line-height:normal;font-family:Menlo,'DejaVu Sans Mono',consolas,'Courier New',monospace\"></pre>\n"
      ],
      "text/plain": []
     },
     "metadata": {},
     "output_type": "display_data"
    },
    {
     "data": {
      "text/html": [
       "<pre style=\"white-space:pre;overflow-x:auto;line-height:normal;font-family:Menlo,'DejaVu Sans Mono',consolas,'Courier New',monospace\">\n",
       "</pre>\n"
      ],
      "text/plain": [
       "\n"
      ]
     },
     "metadata": {},
     "output_type": "display_data"
    },
    {
     "name": "stderr",
     "output_type": "stream",
     "text": [
      "Sampling 4 chains for 500 tune and 1_000 draw iterations (2_000 + 4_000 draws total) took 54 seconds.\n",
      "There were 817 divergences after tuning. Increase `target_accept` or reparameterize.\n",
      "Chain 1 reached the maximum tree depth. Increase `max_treedepth`, increase `target_accept` or reparameterize.\n",
      "Chain 2 reached the maximum tree depth. Increase `max_treedepth`, increase `target_accept` or reparameterize.\n",
      "The rhat statistic is larger than 1.01 for some parameters. This indicates problems during sampling. See https://arxiv.org/abs/1903.08008 for details\n",
      "The effective sample size per chain is smaller than 100 for some parameters.  A higher number is needed for reliable rhat and ess computation. See https://arxiv.org/abs/1903.08008 for details\n",
      "Auto-assigning NUTS sampler...\n",
      "Initializing NUTS using jitter+adapt_diag...\n",
      "Multiprocess sampling (4 chains in 4 jobs)\n",
      "NUTS: [alpha, beta, sigma]\n"
     ]
    },
    {
     "data": {
      "application/vnd.jupyter.widget-view+json": {
       "model_id": "7026222fde954c198d6c20de07aa0108",
       "version_major": 2,
       "version_minor": 0
      },
      "text/plain": [
       "Output()"
      ]
     },
     "metadata": {},
     "output_type": "display_data"
    },
    {
     "data": {
      "text/html": [
       "<pre style=\"white-space:pre;overflow-x:auto;line-height:normal;font-family:Menlo,'DejaVu Sans Mono',consolas,'Courier New',monospace\"></pre>\n"
      ],
      "text/plain": []
     },
     "metadata": {},
     "output_type": "display_data"
    },
    {
     "data": {
      "text/html": [
       "<pre style=\"white-space:pre;overflow-x:auto;line-height:normal;font-family:Menlo,'DejaVu Sans Mono',consolas,'Courier New',monospace\">\n",
       "</pre>\n"
      ],
      "text/plain": [
       "\n"
      ]
     },
     "metadata": {},
     "output_type": "display_data"
    },
    {
     "name": "stderr",
     "output_type": "stream",
     "text": [
      "Sampling 4 chains for 500 tune and 1_000 draw iterations (2_000 + 4_000 draws total) took 57 seconds.\n",
      "Chain 0 reached the maximum tree depth. Increase `max_treedepth`, increase `target_accept` or reparameterize.\n",
      "Chain 1 reached the maximum tree depth. Increase `max_treedepth`, increase `target_accept` or reparameterize.\n",
      "Chain 2 reached the maximum tree depth. Increase `max_treedepth`, increase `target_accept` or reparameterize.\n",
      "Chain 3 reached the maximum tree depth. Increase `max_treedepth`, increase `target_accept` or reparameterize.\n",
      "The rhat statistic is larger than 1.01 for some parameters. This indicates problems during sampling. See https://arxiv.org/abs/1903.08008 for details\n",
      "The effective sample size per chain is smaller than 100 for some parameters.  A higher number is needed for reliable rhat and ess computation. See https://arxiv.org/abs/1903.08008 for details\n",
      "Auto-assigning NUTS sampler...\n",
      "Initializing NUTS using jitter+adapt_diag...\n",
      "Multiprocess sampling (4 chains in 4 jobs)\n",
      "NUTS: [alpha, beta, sigma]\n"
     ]
    },
    {
     "data": {
      "application/vnd.jupyter.widget-view+json": {
       "model_id": "1386f23015f24a01b1aa5c8f7476de08",
       "version_major": 2,
       "version_minor": 0
      },
      "text/plain": [
       "Output()"
      ]
     },
     "metadata": {},
     "output_type": "display_data"
    },
    {
     "data": {
      "text/html": [
       "<pre style=\"white-space:pre;overflow-x:auto;line-height:normal;font-family:Menlo,'DejaVu Sans Mono',consolas,'Courier New',monospace\"></pre>\n"
      ],
      "text/plain": []
     },
     "metadata": {},
     "output_type": "display_data"
    },
    {
     "data": {
      "text/html": [
       "<pre style=\"white-space:pre;overflow-x:auto;line-height:normal;font-family:Menlo,'DejaVu Sans Mono',consolas,'Courier New',monospace\">\n",
       "</pre>\n"
      ],
      "text/plain": [
       "\n"
      ]
     },
     "metadata": {},
     "output_type": "display_data"
    },
    {
     "name": "stderr",
     "output_type": "stream",
     "text": [
      "Sampling 4 chains for 500 tune and 1_000 draw iterations (2_000 + 4_000 draws total) took 100 seconds.\n",
      "Chain 0 reached the maximum tree depth. Increase `max_treedepth`, increase `target_accept` or reparameterize.\n",
      "Chain 1 reached the maximum tree depth. Increase `max_treedepth`, increase `target_accept` or reparameterize.\n",
      "Chain 2 reached the maximum tree depth. Increase `max_treedepth`, increase `target_accept` or reparameterize.\n",
      "Chain 3 reached the maximum tree depth. Increase `max_treedepth`, increase `target_accept` or reparameterize.\n",
      "The rhat statistic is larger than 1.01 for some parameters. This indicates problems during sampling. See https://arxiv.org/abs/1903.08008 for details\n",
      "The effective sample size per chain is smaller than 100 for some parameters.  A higher number is needed for reliable rhat and ess computation. See https://arxiv.org/abs/1903.08008 for details\n"
     ]
    }
   ],
   "source": [
    "with basic_model:\n",
    "    basic_model_trace = pm.sample(1000, tune=500, target_accept=0.99, return_inferencedata=True,\n",
    "                            progressbar=True, cores=4, chains=4)\n",
    "\n",
    "with log_scaled_g:\n",
    "    log_scaled_g_trace = pm.sample(1000, tune=500, target_accept=0.99, return_inferencedata=True,\n",
    "                            progressbar=True, cores=4, chains=4)\n",
    "\n",
    "with halfnormal:\n",
    "    halfnormal_trace = pm.sample(1000, tune=500, target_accept=0.99, return_inferencedata=True,\n",
    "                            progressbar=True, cores=4, chains=4)"
   ]
  },
  {
   "cell_type": "code",
   "execution_count": 35,
   "metadata": {},
   "outputs": [],
   "source": [
    "# # Extract posterior samples for each model\n",
    "# basic_posterior = basic_model_trace.posterior\n",
    "# log_scaled_posterior = log_scaled_g_trace.posterior\n",
    "# halfnormal_posterior = halfnormal_trace.posterior\n",
    "\n",
    "# # Create dataframes for each model's parameters\n",
    "# basic_params = pd.DataFrame({\n",
    "#     'alpha': basic_posterior.alpha.values.flatten(),\n",
    "#     'beta': basic_posterior.beta.values.flatten()\n",
    "# })\n",
    "\n",
    "# log_scaled_params = pd.DataFrame({\n",
    "#     'alpha': log_scaled_posterior.alpha.values.flatten(),\n",
    "#     'beta': log_scaled_posterior.beta.values.flatten()\n",
    "# })\n",
    "\n",
    "# halfnormal_params = pd.DataFrame({\n",
    "#     'alpha': halfnormal_posterior.alpha.values.flatten(),\n",
    "#     'beta': halfnormal_posterior.beta.values.flatten()\n",
    "# })\n",
    "\n",
    "# # Save to CSV files\n",
    "# basic_params.to_csv('../results/Ne_modelling/basic_model_parameters.csv', index=False)\n",
    "# log_scaled_params.to_csv('../results/Ne_modelling/log_scaled_parameters.csv', index=False)\n",
    "# halfnormal_params.to_csv('../results/Ne_modelling/halfnormal_parameters.csv', index=False)"
   ]
  },
  {
   "cell_type": "code",
   "execution_count": 14,
   "metadata": {},
   "outputs": [
    {
     "data": {
      "application/vnd.jupyter.widget-view+json": {
       "model_id": "848092236485495a8b49d209df6104c2",
       "version_major": 2,
       "version_minor": 0
      },
      "text/plain": [
       "Output()"
      ]
     },
     "metadata": {},
     "output_type": "display_data"
    },
    {
     "data": {
      "text/html": [
       "<pre style=\"white-space:pre;overflow-x:auto;line-height:normal;font-family:Menlo,'DejaVu Sans Mono',consolas,'Courier New',monospace\"></pre>\n"
      ],
      "text/plain": []
     },
     "metadata": {},
     "output_type": "display_data"
    },
    {
     "data": {
      "text/html": [
       "<pre style=\"white-space:pre;overflow-x:auto;line-height:normal;font-family:Menlo,'DejaVu Sans Mono',consolas,'Courier New',monospace\">\n",
       "</pre>\n"
      ],
      "text/plain": [
       "\n"
      ]
     },
     "metadata": {},
     "output_type": "display_data"
    },
    {
     "data": {
      "application/vnd.jupyter.widget-view+json": {
       "model_id": "1bf01d1784cc4d94bb6266bbac2efeab",
       "version_major": 2,
       "version_minor": 0
      },
      "text/plain": [
       "Output()"
      ]
     },
     "metadata": {},
     "output_type": "display_data"
    },
    {
     "data": {
      "text/html": [
       "<pre style=\"white-space:pre;overflow-x:auto;line-height:normal;font-family:Menlo,'DejaVu Sans Mono',consolas,'Courier New',monospace\"></pre>\n"
      ],
      "text/plain": []
     },
     "metadata": {},
     "output_type": "display_data"
    },
    {
     "data": {
      "text/html": [
       "<pre style=\"white-space:pre;overflow-x:auto;line-height:normal;font-family:Menlo,'DejaVu Sans Mono',consolas,'Courier New',monospace\">\n",
       "</pre>\n"
      ],
      "text/plain": [
       "\n"
      ]
     },
     "metadata": {},
     "output_type": "display_data"
    },
    {
     "data": {
      "application/vnd.jupyter.widget-view+json": {
       "model_id": "1fd018bc057f4aa49b5ba952003a685f",
       "version_major": 2,
       "version_minor": 0
      },
      "text/plain": [
       "Output()"
      ]
     },
     "metadata": {},
     "output_type": "display_data"
    },
    {
     "data": {
      "text/html": [
       "<pre style=\"white-space:pre;overflow-x:auto;line-height:normal;font-family:Menlo,'DejaVu Sans Mono',consolas,'Courier New',monospace\"></pre>\n"
      ],
      "text/plain": []
     },
     "metadata": {},
     "output_type": "display_data"
    },
    {
     "data": {
      "text/html": [
       "<pre style=\"white-space:pre;overflow-x:auto;line-height:normal;font-family:Menlo,'DejaVu Sans Mono',consolas,'Courier New',monospace\">\n",
       "</pre>\n"
      ],
      "text/plain": [
       "\n"
      ]
     },
     "metadata": {},
     "output_type": "display_data"
    }
   ],
   "source": [
    "with halfnormal:\n",
    "    pm.compute_log_likelihood(halfnormal_trace)\n",
    "with basic_model:\n",
    "    pm.compute_log_likelihood(basic_model_trace)\n",
    "with log_scaled_g:\n",
    "    pm.compute_log_likelihood(log_scaled_g_trace)\n",
    "\n",
    "df_comp_loo = az.compare({\"basic_model\": basic_model_trace, \"log_scaled_g\": log_scaled_g_trace, 'halfnormal':halfnormal_trace})\n",
    "# df_comp_loo.to_csv('../results/Ne_modelling/comparison.csv')"
   ]
  },
  {
   "cell_type": "code",
   "execution_count": 36,
   "metadata": {},
   "outputs": [],
   "source": [
    "# Predicting Ne \n",
    "generation_times = pd.read_csv('../data/Kuderna_et_al_2023.csv', usecols=['SPECIES_BINOMIAL', 'GENERATION_LENGTH'])\n",
    "highest_pi = pd.read_csv('../results/stats/diversity_in_highest_recombination_bin.csv')\n",
    "parameters_mu_model = pd.read_csv('../results/Ne_modelling/halfnormal_parameters.csv', sep = ',')\n",
    "# Merge with highest_pi and rename column to match\n",
    "generation_times = generation_times.merge(\n",
    "    highest_pi,\n",
    "    left_on='SPECIES_BINOMIAL',\n",
    "    right_on='species',\n",
    "    how='inner'\n",
    ").drop('SPECIES_BINOMIAL', axis=1)"
   ]
  },
  {
   "cell_type": "code",
   "execution_count": 43,
   "metadata": {},
   "outputs": [],
   "source": [
    "# Create function to predict mutation rate using the model parameters\n",
    "def predict_mutation_rate(generation_time, alpha, beta):\n",
    "    return alpha + beta * np.log10(generation_time)\n",
    "\n",
    "# Initialize storage for results\n",
    "results = []\n",
    "\n",
    "# For each species\n",
    "for _, row in generation_times.iterrows():\n",
    "    species = row['species']\n",
    "    gen_time = row['GENERATION_LENGTH']\n",
    "    \n",
    "    # Generate predictions using all posterior samples\n",
    "    predictions = predict_mutation_rate(\n",
    "        gen_time,\n",
    "        parameters_mu_model['alpha'].values,\n",
    "        parameters_mu_model['beta'].values\n",
    "    )\n",
    "    \n",
    "    # Calculate median and HDI\n",
    "    median_rate = np.median(predictions)\n",
    "    hdi = az.hdi(predictions, hdi_prob=0.95)\n",
    "    \n",
    "    results.append({\n",
    "        'species': species,\n",
    "        'generation_time': gen_time,\n",
    "        'median_predicted_rate': median_rate,\n",
    "        'hdi_lower': hdi[0],\n",
    "        'hdi_upper': hdi[1]\n",
    "    })\n",
    "\n",
    "# Convert to dataframe\n",
    "results_df = pd.DataFrame(results)"
   ]
  },
  {
   "cell_type": "code",
   "execution_count": 48,
   "metadata": {
    "vscode": {
     "languageId": "ruby"
    }
   },
   "outputs": [],
   "source": [
    "# Calculate Ne using the relationship Ne = pi/(4*mu)\n",
    "results_df['Ne_median'] = results_df.merge(\n",
    "    generation_times[['species', 'median_diversity']], \n",
    "    on='species'\n",
    ")['median_diversity'] / (4 * results_df['median_predicted_rate'])\n",
    "\n",
    "# Calculate Ne lower bound (using upper mutation rate bound)\n",
    "results_df['Ne_lower'] = results_df.merge(\n",
    "    generation_times[['species', 'median_diversity']], \n",
    "    on='species'\n",
    ")['median_diversity'] / (4 * results_df['hdi_upper'])\n",
    "\n",
    "# Calculate Ne upper bound (using lower mutation rate bound)\n",
    "results_df['Ne_upper'] = results_df.merge(\n",
    "    generation_times[['species', 'median_diversity']], \n",
    "    on='species'\n",
    ")['median_diversity'] / (4 * results_df['hdi_lower'])"
   ]
  },
  {
   "cell_type": "code",
   "execution_count": 53,
   "metadata": {
    "vscode": {
     "languageId": "ruby"
    }
   },
   "outputs": [
    {
     "data": {
      "text/html": [
       "<div>\n",
       "<style scoped>\n",
       "    .dataframe tbody tr th:only-of-type {\n",
       "        vertical-align: middle;\n",
       "    }\n",
       "\n",
       "    .dataframe tbody tr th {\n",
       "        vertical-align: top;\n",
       "    }\n",
       "\n",
       "    .dataframe thead th {\n",
       "        text-align: right;\n",
       "    }\n",
       "</style>\n",
       "<table border=\"1\" class=\"dataframe\">\n",
       "  <thead>\n",
       "    <tr style=\"text-align: right;\">\n",
       "      <th></th>\n",
       "      <th>species</th>\n",
       "      <th>generation_time</th>\n",
       "      <th>median_predicted_rate</th>\n",
       "      <th>hdi_lower</th>\n",
       "      <th>hdi_upper</th>\n",
       "      <th>Ne_median</th>\n",
       "      <th>Ne_lower</th>\n",
       "      <th>Ne_upper</th>\n",
       "      <th>median_diversity</th>\n",
       "    </tr>\n",
       "  </thead>\n",
       "  <tbody>\n",
       "    <tr>\n",
       "      <th>0</th>\n",
       "      <td>Allenopithecus_nigroviridis</td>\n",
       "      <td>10.0</td>\n",
       "      <td>8.377808e-09</td>\n",
       "      <td>7.317695e-09</td>\n",
       "      <td>9.548462e-09</td>\n",
       "      <td>53365.192548</td>\n",
       "      <td>46822.551358</td>\n",
       "      <td>61096.196593</td>\n",
       "      <td>0.001788</td>\n",
       "    </tr>\n",
       "    <tr>\n",
       "      <th>1</th>\n",
       "      <td>Allochrocebus_lhoesti</td>\n",
       "      <td>10.0</td>\n",
       "      <td>8.377808e-09</td>\n",
       "      <td>7.317695e-09</td>\n",
       "      <td>9.548462e-09</td>\n",
       "      <td>92754.971205</td>\n",
       "      <td>81383.092529</td>\n",
       "      <td>106192.364069</td>\n",
       "      <td>0.003108</td>\n",
       "    </tr>\n",
       "    <tr>\n",
       "      <th>2</th>\n",
       "      <td>Allochrocebus_preussi</td>\n",
       "      <td>10.0</td>\n",
       "      <td>8.377808e-09</td>\n",
       "      <td>7.317695e-09</td>\n",
       "      <td>9.548462e-09</td>\n",
       "      <td>105337.817164</td>\n",
       "      <td>92423.265402</td>\n",
       "      <td>120598.084235</td>\n",
       "      <td>0.003530</td>\n",
       "    </tr>\n",
       "    <tr>\n",
       "      <th>3</th>\n",
       "      <td>Allochrocebus_solatus</td>\n",
       "      <td>10.0</td>\n",
       "      <td>8.377808e-09</td>\n",
       "      <td>7.317695e-09</td>\n",
       "      <td>9.548462e-09</td>\n",
       "      <td>124435.891665</td>\n",
       "      <td>109179.891424</td>\n",
       "      <td>142462.892708</td>\n",
       "      <td>0.004170</td>\n",
       "    </tr>\n",
       "    <tr>\n",
       "      <th>4</th>\n",
       "      <td>Alouatta_belzebul</td>\n",
       "      <td>12.0</td>\n",
       "      <td>8.871836e-09</td>\n",
       "      <td>7.754292e-09</td>\n",
       "      <td>9.971834e-09</td>\n",
       "      <td>62275.725130</td>\n",
       "      <td>55406.054463</td>\n",
       "      <td>71250.858989</td>\n",
       "      <td>0.002210</td>\n",
       "    </tr>\n",
       "    <tr>\n",
       "      <th>...</th>\n",
       "      <td>...</td>\n",
       "      <td>...</td>\n",
       "      <td>...</td>\n",
       "      <td>...</td>\n",
       "      <td>...</td>\n",
       "      <td>...</td>\n",
       "      <td>...</td>\n",
       "      <td>...</td>\n",
       "      <td>...</td>\n",
       "    </tr>\n",
       "    <tr>\n",
       "      <th>176</th>\n",
       "      <td>Trachypithecus_laotum</td>\n",
       "      <td>11.0</td>\n",
       "      <td>8.635916e-09</td>\n",
       "      <td>7.537494e-09</td>\n",
       "      <td>9.742647e-09</td>\n",
       "      <td>35028.130199</td>\n",
       "      <td>31049.057749</td>\n",
       "      <td>40132.700340</td>\n",
       "      <td>0.001210</td>\n",
       "    </tr>\n",
       "    <tr>\n",
       "      <th>177</th>\n",
       "      <td>Trachypithecus_leucocephalus</td>\n",
       "      <td>12.0</td>\n",
       "      <td>8.871836e-09</td>\n",
       "      <td>7.754292e-09</td>\n",
       "      <td>9.971834e-09</td>\n",
       "      <td>10989.833846</td>\n",
       "      <td>9777.539023</td>\n",
       "      <td>12573.680998</td>\n",
       "      <td>0.000390</td>\n",
       "    </tr>\n",
       "    <tr>\n",
       "      <th>178</th>\n",
       "      <td>Trachypithecus_melamera</td>\n",
       "      <td>12.0</td>\n",
       "      <td>8.871836e-09</td>\n",
       "      <td>7.754292e-09</td>\n",
       "      <td>9.971834e-09</td>\n",
       "      <td>37196.360711</td>\n",
       "      <td>33093.209001</td>\n",
       "      <td>42557.074147</td>\n",
       "      <td>0.001320</td>\n",
       "    </tr>\n",
       "    <tr>\n",
       "      <th>179</th>\n",
       "      <td>Varecia_rubra</td>\n",
       "      <td>8.0</td>\n",
       "      <td>7.769189e-09</td>\n",
       "      <td>6.667105e-09</td>\n",
       "      <td>9.038913e-09</td>\n",
       "      <td>50520.072865</td>\n",
       "      <td>43423.362126</td>\n",
       "      <td>58871.131044</td>\n",
       "      <td>0.001570</td>\n",
       "    </tr>\n",
       "    <tr>\n",
       "      <th>180</th>\n",
       "      <td>Varecia_variegata</td>\n",
       "      <td>6.5</td>\n",
       "      <td>7.198354e-09</td>\n",
       "      <td>6.033999e-09</td>\n",
       "      <td>8.643391e-09</td>\n",
       "      <td>77448.262764</td>\n",
       "      <td>64500.149103</td>\n",
       "      <td>92393.123704</td>\n",
       "      <td>0.002230</td>\n",
       "    </tr>\n",
       "  </tbody>\n",
       "</table>\n",
       "<p>181 rows × 9 columns</p>\n",
       "</div>"
      ],
      "text/plain": [
       "                          species  generation_time  median_predicted_rate  \\\n",
       "0     Allenopithecus_nigroviridis             10.0           8.377808e-09   \n",
       "1           Allochrocebus_lhoesti             10.0           8.377808e-09   \n",
       "2           Allochrocebus_preussi             10.0           8.377808e-09   \n",
       "3           Allochrocebus_solatus             10.0           8.377808e-09   \n",
       "4               Alouatta_belzebul             12.0           8.871836e-09   \n",
       "..                            ...              ...                    ...   \n",
       "176         Trachypithecus_laotum             11.0           8.635916e-09   \n",
       "177  Trachypithecus_leucocephalus             12.0           8.871836e-09   \n",
       "178       Trachypithecus_melamera             12.0           8.871836e-09   \n",
       "179                 Varecia_rubra              8.0           7.769189e-09   \n",
       "180             Varecia_variegata              6.5           7.198354e-09   \n",
       "\n",
       "        hdi_lower     hdi_upper      Ne_median       Ne_lower       Ne_upper  \\\n",
       "0    7.317695e-09  9.548462e-09   53365.192548   46822.551358   61096.196593   \n",
       "1    7.317695e-09  9.548462e-09   92754.971205   81383.092529  106192.364069   \n",
       "2    7.317695e-09  9.548462e-09  105337.817164   92423.265402  120598.084235   \n",
       "3    7.317695e-09  9.548462e-09  124435.891665  109179.891424  142462.892708   \n",
       "4    7.754292e-09  9.971834e-09   62275.725130   55406.054463   71250.858989   \n",
       "..            ...           ...            ...            ...            ...   \n",
       "176  7.537494e-09  9.742647e-09   35028.130199   31049.057749   40132.700340   \n",
       "177  7.754292e-09  9.971834e-09   10989.833846    9777.539023   12573.680998   \n",
       "178  7.754292e-09  9.971834e-09   37196.360711   33093.209001   42557.074147   \n",
       "179  6.667105e-09  9.038913e-09   50520.072865   43423.362126   58871.131044   \n",
       "180  6.033999e-09  8.643391e-09   77448.262764   64500.149103   92393.123704   \n",
       "\n",
       "     median_diversity  \n",
       "0            0.001788  \n",
       "1            0.003108  \n",
       "2            0.003530  \n",
       "3            0.004170  \n",
       "4            0.002210  \n",
       "..                ...  \n",
       "176          0.001210  \n",
       "177          0.000390  \n",
       "178          0.001320  \n",
       "179          0.001570  \n",
       "180          0.002230  \n",
       "\n",
       "[181 rows x 9 columns]"
      ]
     },
     "execution_count": 53,
     "metadata": {},
     "output_type": "execute_result"
    }
   ],
   "source": [
    "results_df = results_df.merge(\n",
    "    generation_times[['species', 'median_diversity']], \n",
    "    on='species',\n",
    "    how='left')\n",
    "results_df"
   ]
  },
  {
   "cell_type": "code",
   "execution_count": 54,
   "metadata": {},
   "outputs": [
    {
     "name": "stdout",
     "output_type": "stream",
     "text": [
      "Top 5 species by effective population size:\n",
      "                    species      Ne_median\n",
      "57     Chiropotes_albinasus  359929.786424\n",
      "168  Semnopithecus_entellus  312837.542359\n",
      "40     Cercopithecus_cephus  282172.305064\n",
      "39   Cercopithecus_ascanius  228945.478780\n",
      "43      Cercopithecus_lowei  225458.341179\n",
      "\n",
      "Bottom 5 species by effective population size:\n",
      "                          species     Ne_median\n",
      "10              Alouatta_palliata   5106.373640\n",
      "121                     Mico_spnv   7527.151326\n",
      "156           Rhinopithecus_bieti   7979.742367\n",
      "177  Trachypithecus_leucocephalus  10989.833846\n",
      "157       Rhinopithecus_roxellana  12107.195315\n"
     ]
    }
   ],
   "source": [
    "# Display species with highest Ne\n",
    "print(\"Top 5 species by effective population size:\")\n",
    "print(results_df.nlargest(5, 'Ne_median')[['species', 'Ne_median']])\n",
    "\n",
    "print(\"\\nBottom 5 species by effective population size:\")\n",
    "print(results_df.nsmallest(5, 'Ne_median')[['species', 'Ne_median']])"
   ]
  },
  {
   "cell_type": "code",
   "execution_count": 55,
   "metadata": {},
   "outputs": [
    {
     "name": "stdout",
     "output_type": "stream",
     "text": [
      "Top 5 species by effective population size:\n",
      "                    species  median_diversity\n",
      "57     Chiropotes_albinasus          0.012062\n",
      "168  Semnopithecus_entellus          0.010484\n",
      "40     Cercopithecus_cephus          0.008769\n",
      "39   Cercopithecus_ascanius          0.008125\n",
      "43      Cercopithecus_lowei          0.007300\n",
      "\n",
      "Bottom 5 species by effective population size:\n",
      "                          species  median_diversity\n",
      "10              Alouatta_palliata          0.000170\n",
      "121                     Mico_spnv          0.000210\n",
      "156           Rhinopithecus_bieti          0.000290\n",
      "96         Leontopithecus_rosalia          0.000387\n",
      "177  Trachypithecus_leucocephalus          0.000390\n"
     ]
    }
   ],
   "source": [
    "# Display species with highest Ne\n",
    "print(\"Top 5 species by effective population size:\")\n",
    "print(results_df.nlargest(5, 'median_diversity')[['species', 'median_diversity']])\n",
    "\n",
    "print(\"\\nBottom 5 species by effective population size:\")\n",
    "print(results_df.nsmallest(5, 'median_diversity')[['species', 'median_diversity']])"
   ]
  },
  {
   "cell_type": "code",
   "execution_count": 59,
   "metadata": {},
   "outputs": [],
   "source": [
    "# selected_columns = ['species', 'median_predicted_rate', 'Ne_median', 'Ne_upper', 'Ne_lower']\n",
    "# results_df[selected_columns].to_csv('../results/Ne_modelling/predicted_Ne.csv', index=False)"
   ]
  },
  {
   "cell_type": "code",
   "execution_count": 60,
   "metadata": {},
   "outputs": [],
   "source": [
    "## Merge Ne to the actual data\n",
    "# total = pd.read_csv('../results/stats/all_species.combined.stats.filtered.csv', sep = ',')\n",
    "# ne_df = pd.read_csv('../results/Ne_modelling/predicted_Ne.csv')\n",
    "# merged_df = total.merge(ne_df, on='species', how='left')\n",
    "# merged_df.to_csv('../results/stats/all_species_ne.combined.stats.filtered.csv')"
   ]
  },
  {
   "cell_type": "markdown",
   "metadata": {},
   "source": [
    "# Relative Reduction Model"
   ]
  },
  {
   "cell_type": "code",
   "execution_count": null,
   "metadata": {},
   "outputs": [],
   "source": [
    "%%R\n",
    "#prepare data\n"
   ]
  }
 ],
 "metadata": {
  "kernelspec": {
   "display_name": "bircproject",
   "language": "python",
   "name": "python3"
  },
  "language_info": {
   "codemirror_mode": {
    "name": "ipython",
    "version": 3
   },
   "file_extension": ".py",
   "mimetype": "text/x-python",
   "name": "python",
   "nbconvert_exporter": "python",
   "pygments_lexer": "ipython3",
   "version": "3.12.8"
  }
 },
 "nbformat": 4,
 "nbformat_minor": 4
}
