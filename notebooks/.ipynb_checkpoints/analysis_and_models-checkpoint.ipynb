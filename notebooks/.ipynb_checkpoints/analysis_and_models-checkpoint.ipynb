{
 "cells": [
  {
   "cell_type": "markdown",
   "metadata": {},
   "source": [
    "# PLACEHOLDER FOR TITLE"
   ]
  },
  {
   "cell_type": "markdown",
   "metadata": {},
   "source": [
    "## PLACEHOLDER FOR DESCRIPTION"
   ]
  },
  {
   "cell_type": "markdown",
   "metadata": {},
   "source": [
    "### PACKAGES AND LIBRARIES"
   ]
  },
  {
   "cell_type": "code",
   "execution_count": 1,
   "metadata": {},
   "outputs": [],
   "source": [
    "# Here is all the libs needed to do the analysis and plotting for \"TITLE AND THONG\"\n",
    "# python packages\n",
    "import pandas as pd\n",
    "import numpy as np\n",
    "import matplotlib.pyplot as plt\n",
    "import seaborn as sns"
   ]
  },
  {
   "cell_type": "code",
   "execution_count": 2,
   "metadata": {},
   "outputs": [],
   "source": [
    "# R packages\n",
    "import rpy2\n",
    "\n",
    "%load_ext rpy2.ipython"
   ]
  },
  {
   "cell_type": "code",
   "execution_count": 3,
   "metadata": {},
   "outputs": [
    {
     "name": "stdout",
     "output_type": "stream",
     "text": [
      "── Attaching core tidyverse packages ──────────────────────── tidyverse 2.0.0 ──\n",
      "✔ dplyr     1.1.4     ✔ readr     2.1.5\n",
      "✔ forcats   1.0.0     ✔ stringr   1.5.1\n",
      "✔ ggplot2   3.5.1     ✔ tibble    3.2.1\n",
      "✔ lubridate 1.9.3     ✔ tidyr     1.3.1\n",
      "✔ purrr     1.0.2     \n",
      "── Conflicts ────────────────────────────────────────── tidyverse_conflicts() ──\n",
      "✖ dplyr::filter() masks stats::filter()\n",
      "✖ dplyr::lag()    masks stats::lag()\n",
      "ℹ Use the conflicted package (<http://conflicted.r-lib.org/>) to force all conflicts to become errors\n"
     ]
    },
    {
     "name": "stderr",
     "output_type": "stream",
     "text": [
      "R[write to console]: \n",
      "Attaching package: ‘zoo’\n",
      "\n",
      "\n",
      "R[write to console]: The following objects are masked from ‘package:base’:\n",
      "\n",
      "    as.Date, as.Date.numeric\n",
      "\n",
      "\n",
      "R[write to console]: ggtree v3.10.0 For help: https://yulab-smu.top/treedata-book/\n",
      "\n",
      "If you use the ggtree package suite in published research, please cite\n",
      "the appropriate paper(s):\n",
      "\n",
      "Guangchuang Yu, David Smith, Huachen Zhu, Yi Guan, Tommy Tsan-Yuk Lam.\n",
      "ggtree: an R package for visualization and annotation of phylogenetic\n",
      "trees with their covariates and other associated data. Methods in\n",
      "Ecology and Evolution. 2017, 8(1):28-36. doi:10.1111/2041-210X.12628\n",
      "\n",
      "S Xu, Z Dai, P Guo, X Fu, S Liu, L Zhou, W Tang, T Feng, M Chen, L\n",
      "Zhan, T Wu, E Hu, Y Jiang, X Bo, G Yu. ggtreeExtra: Compact\n",
      "visualization of richly annotated phylogenetic data. Molecular Biology\n",
      "and Evolution. 2021, 38(9):4039-4042. doi: 10.1093/molbev/msab166\n",
      "\n",
      "Guangchuang Yu.  Data Integration, Manipulation and Visualization of\n",
      "Phylogenetic Trees (1st edition). Chapman and Hall/CRC. 2022,\n",
      "doi:10.1201/9781003279242\n",
      "\n",
      "R[write to console]: \n",
      "Attaching package: ‘ggtree’\n",
      "\n",
      "\n",
      "R[write to console]: The following object is masked from ‘package:tidyr’:\n",
      "\n",
      "    expand\n",
      "\n",
      "\n",
      "R[write to console]: \n",
      "Attaching package: ‘ape’\n",
      "\n",
      "\n",
      "R[write to console]: The following object is masked from ‘package:ggtree’:\n",
      "\n",
      "    rotate\n",
      "\n",
      "\n",
      "R[write to console]: The following object is masked from ‘package:dplyr’:\n",
      "\n",
      "    where\n",
      "\n",
      "\n",
      "R[write to console]: \n",
      "Attaching package: ‘ggpubr’\n",
      "\n",
      "\n",
      "R[write to console]: The following object is masked from ‘package:ggimage’:\n",
      "\n",
      "    theme_transparent\n",
      "\n",
      "\n",
      "R[write to console]: The following object is masked from ‘package:ape’:\n",
      "\n",
      "    rotate\n",
      "\n",
      "\n",
      "R[write to console]: The following object is masked from ‘package:ggtree’:\n",
      "\n",
      "    rotate\n",
      "\n",
      "\n"
     ]
    }
   ],
   "source": [
    "%%R\n",
    "library(tidyverse) \n",
    "library(zoo)\n",
    "library(ggtree)\n",
    "library(ape)\n",
    "library(ggimage)\n",
    "library(ggpubr)\n",
    "library(ggridges)"
   ]
  },
  {
   "cell_type": "code",
   "execution_count": 4,
   "metadata": {},
   "outputs": [],
   "source": [
    "%%R\n",
    "\n",
    "posterior_predictive <- function(x, slope_samples, intercept_samples) {\n",
    "  slope_samples * x + intercept_samples\n",
    "}\n",
    "\n",
    "# Calculate the credibility interval\n",
    "credibility_interval <- function(x, slope_samples, intercept_samples, prob = c(0.025, 0.975)) {\n",
    "  quantile(posterior_predictive(x, slope_samples, intercept_samples), prob)\n",
    "}"
   ]
  },
  {
   "cell_type": "markdown",
   "metadata": {},
   "source": [
    "# Merging with phylogenetic grouping, removing chrX, Low callability regions and NaNs"
   ]
  },
  {
   "cell_type": "code",
   "execution_count": null,
   "metadata": {},
   "outputs": [],
   "source": [
    "df = pd.read_csv('../data/stats/all_species.combined.stats.csv', sep = ',')\n",
    "pg_names = pd.read_csv('../data/genus_phylogenetic_group_metadata.txt', sep = '\\t')\n",
    "df"
   ]
  }
 ],
 "metadata": {
  "kernelspec": {
   "display_name": "Python 3 (ipykernel)",
   "language": "python",
   "name": "python3"
  },
  "language_info": {
   "codemirror_mode": {
    "name": "ipython",
    "version": 3
   },
   "file_extension": ".py",
   "mimetype": "text/x-python",
   "name": "python",
   "nbconvert_exporter": "python",
   "pygments_lexer": "ipython3",
   "version": "3.12.8"
  }
 },
 "nbformat": 4,
 "nbformat_minor": 4
}
